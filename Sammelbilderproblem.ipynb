{
 "cells": [
  {
   "cell_type": "code",
   "execution_count": 62,
   "metadata": {
    "collapsed": false,
    "scrolled": true
   },
   "outputs": [],
   "source": [
    "%matplotlib inline\n",
    "\n",
    "import numpy\n",
    "import matplotlib.pyplot as plt\n",
    "\n",
    "images = 25\n",
    "max_tries = 1000\n",
    "total_rounds = 1000000\n",
    "\n",
    "set_counter = numpy.zeros(images + 1)\n",
    "attempts = numpy.zeros(max_tries)\n",
    "every_attempt = numpy.zeros(total_rounds, dtype='int16')\n",
    "\n",
    "for i in range(1, total_rounds + 1):\n",
    "    attempt = 0\n",
    "    \n",
    "    filled = False\n",
    "    num_filled = 0\n",
    "    while not filled:\n",
    "        attempt += 1 \n",
    "        n = numpy.random.randint(low=1, high=images+1)\n",
    "        if set_counter[n] == i - 1:\n",
    "            set_counter[n] = i\n",
    "            num_filled += 1\n",
    "        if num_filled == images:\n",
    "            filled = True\n",
    "            attempts[attempt] += 1\n",
    "            every_attempt[i-1] = attempt\n",
    "            num_filled = 0"
   ]
  },
  {
   "cell_type": "code",
   "execution_count": 66,
   "metadata": {
    "collapsed": false
   },
   "outputs": [
    {
     "data": {
      "text/plain": [
       "<Container object of 447 artists>"
      ]
     },
     "execution_count": 66,
     "metadata": {},
     "output_type": "execute_result"
    },
    {
     "data": {
      "image/png": "[encoded data removed]",
      "text/plain": [
       "<matplotlib.figure.Figure at 0x7f2577a4deb8>"
      ]
     },
     "metadata": {},
     "output_type": "display_data"
    }
   ],
   "source": [
    "plt.bar(range(0,numpy.max(every_attempt)), attempts[0:numpy.max(every_attempt)])"
   ]
  },
  {
   "cell_type": "code",
   "execution_count": 67,
   "metadata": {
    "collapsed": false
   },
   "outputs": [
    {
     "name": "stdout",
     "output_type": "stream",
     "text": [
      "When collecting 25 images in a set, simulating 1000000 tries:\n",
      "The average number tries to get all is 95.361598 images.\n",
      "the 95 percentile is 152.0 images,\n",
      "the minimum is 30 images,\n",
      "the maximum is 447 images,\n",
      "the median is 90.0 images,\n"
     ]
    }
   ],
   "source": [
    "print(\"When collecting\", images, \"images in a set, simulating\", total_rounds, \"tries:\")\n",
    "print(\"The average number tries to get all is\", numpy.mean(every_attempt), \"images.\")\n",
    "print(\"the 95 percentile is\", numpy.percentile(every_attempt, 95), \"images,\")\n",
    "print(\"the minimum is\", numpy.min(every_attempt), \"images,\")\n",
    "print(\"the maximum is\", numpy.max(every_attempt), \"images,\")\n",
    "print(\"the median is\", numpy.median(every_attempt), \"images,\")\n"
   ]
  }
 ],
 "metadata": {
  "kernelspec": {
   "display_name": "Python 3",
   "language": "python",
   "name": "python3"
  },
  "language_info": {
   "codemirror_mode": {
    "name": "ipython",
    "version": 3
   },
   "file_extension": ".py",
   "mimetype": "text/x-python",
   "name": "python",
   "nbconvert_exporter": "python",
   "pygments_lexer": "ipython3",
   "version": "3.5.2"
  }
 },
 "nbformat": 4,
 "nbformat_minor": 1
}
