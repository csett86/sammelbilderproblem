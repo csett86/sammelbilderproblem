{
 "cells": [
  {
   "cell_type": "code",
   "execution_count": 1,
   "metadata": {
    "collapsed": true
   },
   "outputs": [],
   "source": [
    "%matplotlib inline\n",
    "\n",
    "import numpy\n",
    "import random\n",
    "import matplotlib.pyplot as plt\n",
    "plt.rcParams['figure.figsize'] = (12,8)"
   ]
  },
  {
   "cell_type": "code",
   "execution_count": 2,
   "metadata": {
    "scrolled": true
   },
   "outputs": [],
   "source": [
    "images = 25\n",
    "total_rounds = 1000000\n",
    "\n",
    "set_counter = numpy.zeros(images + 1)\n",
    "every_attempt = numpy.zeros(total_rounds, dtype=numpy.int_)\n",
    "\n",
    "for i in range(1, total_rounds + 1):\n",
    "    attempt = 0\n",
    "    filled = False\n",
    "    num_filled = 0\n",
    "    \n",
    "    while not num_filled == images:\n",
    "        attempt += 1 \n",
    "        n = numpy.random.randint(low=1, high=images+1)\n",
    "        if set_counter[n] == i - 1:\n",
    "            set_counter[n] = i\n",
    "            num_filled += 1\n",
    "\n",
    "    every_attempt[i-1] = attempt"
   ]
  },
  {
   "cell_type": "code",
   "execution_count": 3,
   "metadata": {},
   "outputs": [
    {
     "data": {
      "image/png": "[encoded data removed]",
      "text/plain": [
       "<matplotlib.figure.Figure at 0x117a82128>"
      ]
     },
     "metadata": {},
     "output_type": "display_data"
    }
   ],
   "source": [
    "n, _, _ = plt.hist(every_attempt, bins=range(min(every_attempt), max(every_attempt)), label=\"attempts\")"
   ]
  },
  {
   "cell_type": "code",
   "execution_count": 4,
   "metadata": {},
   "outputs": [
    {
     "name": "stdout",
     "output_type": "stream",
     "text": [
      "When collecting 25 images in a set, simulating 1000000 tries:\n",
      "The average number tries to get all is 95.423529 images.\n",
      "the 95 percentile is 152.0 images,\n",
      "the minimum is 30 images,\n",
      "the maximum is 469 images.\n"
     ]
    }
   ],
   "source": [
    "print(\"When collecting\", images, \"images in a set, simulating\", total_rounds, \"tries:\")\n",
    "print(\"The average number tries to get all is\", numpy.mean(every_attempt), \"images.\")\n",
    "print(\"the 95 percentile is\", numpy.percentile(every_attempt, 95), \"images,\")\n",
    "print(\"the minimum is\", numpy.min(every_attempt), \"images,\")\n",
    "print(\"the maximum is\", numpy.max(every_attempt), \"images.\")"
   ]
  }
 ],
 "metadata": {
  "kernelspec": {
   "display_name": "Python 3",
   "language": "python",
   "name": "python3"
  },
  "language_info": {
   "codemirror_mode": {
    "name": "ipython",
    "version": 3
   },
   "file_extension": ".py",
   "mimetype": "text/x-python",
   "name": "python",
   "nbconvert_exporter": "python",
   "pygments_lexer": "ipython3",
   "version": "3.6.1"
  }
 },
 "nbformat": 4,
 "nbformat_minor": 1
}
