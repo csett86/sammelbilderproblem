{
 "cells": [
  {
   "cell_type": "markdown",
   "metadata": {},
   "source": [
    "# Coupon collector's problem (Sammelbilderproblem)\n",
    "\n",
    "Lets try to simulate it first (with good old numpy.random.randint()):"
   ]
  },
  {
   "cell_type": "code",
   "execution_count": 1,
   "metadata": {},
   "outputs": [],
   "source": [
    "%matplotlib inline\n",
    "\n",
    "import numpy\n",
    "import random\n",
    "import matplotlib.pyplot as plt\n",
    "plt.rcParams['figure.figsize'] = (12,8)"
   ]
  },
  {
   "cell_type": "code",
   "execution_count": 2,
   "metadata": {
    "scrolled": true
   },
   "outputs": [],
   "source": [
    "images = 25\n",
    "max_tries = 450\n",
    "total_rounds = 1000000"
   ]
  },
  {
   "cell_type": "code",
   "execution_count": 3,
   "metadata": {
    "scrolled": true
   },
   "outputs": [],
   "source": [
    "def try_attempt(args=None):\n",
    "    set_counter = numpy.zeros(images)\n",
    "    attempt = 0\n",
    "    num_filled = 0\n",
    "    \n",
    "    while not num_filled == images:\n",
    "        attempt += 1 \n",
    "        n = numpy.random.randint(low=0, high=images)\n",
    "        if set_counter[n] == 0:\n",
    "            set_counter[n] = 1\n",
    "            num_filled += 1\n",
    "    \n",
    "    return attempt"
   ]
  },
  {
   "cell_type": "code",
   "execution_count": 4,
   "metadata": {
    "scrolled": true
   },
   "outputs": [],
   "source": [
    "# Embarrassingly parallel for loops with joblib\n",
    "from joblib import Parallel, delayed\n",
    "\n",
    "every_attempt = Parallel(n_jobs=-1)(delayed(try_attempt)() for i in range(0, total_rounds))"
   ]
  },
  {
   "cell_type": "code",
   "execution_count": 5,
   "metadata": {
    "scrolled": true
   },
   "outputs": [],
   "source": [
    "# python stdlib multiprocessing. Only works within IPython/Jupyter on Linux due to how it spawns processes\n",
    "from multiprocessing import Pool\n",
    "\n",
    "with Pool() as p:\n",
    "    every_attempt = p.map(try_attempt, range(0, total_rounds))"
   ]
  },
  {
   "cell_type": "code",
   "execution_count": 6,
   "metadata": {},
   "outputs": [
    {
     "data": {
      "image/png": "[encoded data removed]",
      "text/plain": [
       "<Figure size 864x576 with 1 Axes>"
      ]
     },
     "metadata": {
      "needs_background": "light"
     },
     "output_type": "display_data"
    }
   ],
   "source": [
    "n, _, _ = plt.hist(every_attempt, bins=range(0, max_tries), label=\"attempts\")\n",
    "plt.xlabel('number of tries')\n",
    "plt.ylabel('occurrence')\n",
    "plt.show()"
   ]
  },
  {
   "cell_type": "code",
   "execution_count": 7,
   "metadata": {},
   "outputs": [
    {
     "name": "stdout",
     "output_type": "stream",
     "text": [
      "When collecting 25 images in a set, simulating 1000000 tries:\n",
      "The average number tries to get all is 95.335332 images.\n",
      "the 95 percentile is 152.0 images,\n",
      "the minimum is 32 images,\n",
      "the maximum is 384 images.\n"
     ]
    }
   ],
   "source": [
    "print(\"When collecting\", images, \"images in a set, simulating\", total_rounds, \"tries:\")\n",
    "print(\"The average number tries to get all is\", numpy.mean(every_attempt), \"images.\")\n",
    "print(\"the 95 percentile is\", numpy.percentile(every_attempt, 95), \"images,\")\n",
    "print(\"the minimum is\", numpy.min(every_attempt), \"images,\")\n",
    "print(\"the maximum is\", numpy.max(every_attempt), \"images.\")"
   ]
  },
  {
   "cell_type": "markdown",
   "metadata": {},
   "source": [
    "## Now with theory\n",
    "\n",
    "How long does it take to collect n images: $X_i$ is the number of images to collect to go from $i-1$ to $i$, $p_i$ the corresponding propability:\n",
    "\n",
    "$$p_i = \\frac{n+1-1}{n}, i=1,2,3...,n $$\n",
    "\n",
    "The $X_i$ are independent random variables, thus the sum $T_n$ is the number of images to collect to get the whole set, its expected value $E(T_n)$ is:\n",
    "\n",
    "$$E(T_n) = \\frac{n}{n} + \\frac{n}{n-1} + \\frac{n}{n-2} + ... + n = n(1 + \\frac{1}{2} + \\frac{1}{3} + ...  + \\frac{1}{n})$$ "
   ]
  },
  {
   "cell_type": "code",
   "execution_count": 8,
   "metadata": {},
   "outputs": [
    {
     "name": "stdout",
     "output_type": "stream",
     "text": [
      "The theoretical mean to collect a set of 25 images is 95.39895444383767 images.\n"
     ]
    }
   ],
   "source": [
    "sum = 0\n",
    "n = images\n",
    "for i in range(1,n+1):\n",
    "    sum += 1/i\n",
    "sum *= n\n",
    "\n",
    "print(\"The theoretical mean to collect a set of\", n, \"images is\", sum, \"images.\")"
   ]
  },
  {
   "cell_type": "markdown",
   "metadata": {},
   "source": [
    "Then we calculate the theoretical distribution, source is\n",
    "http://groolfs.de/Verschiedenespdf/vollstaendigeSerie.pdf\n",
    "\n",
    "We define the propability $P(T_n = k)$ as follows: Having exact $k$ tries to have a complete series with $n$ images.\n",
    "\n",
    "Applying the sieve principle to the above results in:\n",
    "\n",
    "$$P(T_n = k) = \\sum_{r=1}^{n-1} (-1)^{r-1} \\cdot {n\\choose r} \\cdot (1-\\frac{r}{n})^{k-1} \\cdot \\frac{r}{n}$$"
   ]
  },
  {
   "cell_type": "code",
   "execution_count": 9,
   "metadata": {},
   "outputs": [],
   "source": [
    "import math\n",
    "import scipy.special\n",
    "\n",
    "n = images\n",
    "hist = numpy.zeros(max_tries)\n",
    "\n",
    "for k in range(2,max_tries):\n",
    "    sum = 0\n",
    "    for r in range(1,n):\n",
    "        sum += math.pow(-1, r-1) * scipy.special.binom(n, r) * math.pow(1-r/n, k-1) * r / n\n",
    "    \n",
    "    hist[k] = sum"
   ]
  },
  {
   "cell_type": "code",
   "execution_count": 10,
   "metadata": {},
   "outputs": [
    {
     "data": {
      "image/png": "[encoded data removed]",
      "text/plain": [
       "<Figure size 864x576 with 1 Axes>"
      ]
     },
     "metadata": {
      "needs_background": "light"
     },
     "output_type": "display_data"
    }
   ],
   "source": [
    "_ = plt.bar(range(0, max_tries), hist)\n",
    "plt.xlabel('number of tries $k$')\n",
    "plt.ylabel('$P(T_n=k)$')\n",
    "plt.show()"
   ]
  },
  {
   "cell_type": "code",
   "execution_count": null,
   "metadata": {},
   "outputs": [],
   "source": []
  }
 ],
 "metadata": {
  "kernelspec": {
   "display_name": "pip38",
   "language": "python",
   "name": "pip38"
  },
  "language_info": {
   "codemirror_mode": {
    "name": "ipython",
    "version": 3
   },
   "file_extension": ".py",
   "mimetype": "text/x-python",
   "name": "python",
   "nbconvert_exporter": "python",
   "pygments_lexer": "ipython3",
   "version": "3.8.3"
  }
 },
 "nbformat": 4,
 "nbformat_minor": 4
}
